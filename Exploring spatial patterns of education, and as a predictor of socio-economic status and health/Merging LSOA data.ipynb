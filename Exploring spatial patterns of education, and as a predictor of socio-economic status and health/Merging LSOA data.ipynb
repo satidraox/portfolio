{
 "cells": [
  {
   "cell_type": "code",
   "execution_count": 1,
   "metadata": {},
   "outputs": [],
   "source": [
    "# Importing necessary packages\n",
    "\n",
    "import pandas as pd           \n",
    "import numpy as np"
   ]
  },
  {
   "cell_type": "code",
   "execution_count": 2,
   "metadata": {},
   "outputs": [],
   "source": [
    "# The following code reads data from CSV files related to various LSOA region specific data\n",
    "\n",
    "df1 = pd.read_csv(\"LSOA_2011.csv\")                        # Data on Lower layer super output area geographical information\n",
    "df2 = pd.read_csv(\"IMD_2010.csv\")                         # Data related to Indicies of Multiple Deprivation\n",
    "df3 = pd.read_csv(\"highest_qualification.csv\")            # Data on the highest qualification received at time of census in 2011\n",
    "df4 = pd.read_csv(\"HHI_2011.csv\")                         # Data on median household income in 2011\n",
    "df5 = pd.read_csv(\"health_census.csv\")                    # Health census data taken from 2011\n"
   ]
  },
  {
   "cell_type": "code",
   "execution_count": 11,
   "metadata": {},
   "outputs": [],
   "source": [
    "# Merge df1 and df2 on the 'LSOA11CD' column, adding suffixes '_df1' and '_df2', and continuing for each dataframe\n",
    "\n",
    "merged_df = (\n",
    "    df1.merge(df2, on='LSOA11CD', suffixes=('_df1', '_df2'))\n",
    "       .merge(df3, on='LSOA11CD', suffixes=('_df3', '_df4'))\n",
    "       .merge(df4, on='LSOA11CD', suffixes=('_df4', '_df5'))\n",
    "       .merge(df5, on='LSOA11CD', suffixes=('_df5', '_df6'))\n",
    ")"
   ]
  },
  {
   "cell_type": "code",
   "execution_count": 13,
   "metadata": {},
   "outputs": [],
   "source": [
    "#Save file to csv\n",
    "\n",
    "merged_df.to_csv(\"merged_file.csv\", index=False)  "
   ]
  }
 ],
 "metadata": {
  "kernelspec": {
   "display_name": "sds2022",
   "language": "python",
   "name": "python3"
  },
  "language_info": {
   "codemirror_mode": {
    "name": "ipython",
    "version": 3
   },
   "file_extension": ".py",
   "mimetype": "text/x-python",
   "name": "python",
   "nbconvert_exporter": "python",
   "pygments_lexer": "ipython3",
   "version": "3.9.12"
  },
  "orig_nbformat": 4,
  "vscode": {
   "interpreter": {
    "hash": "d0faeab54791f46ff3134aaf9996e014c26a2fa83fa3aaa8e0e0979e7a8fae63"
   }
  }
 },
 "nbformat": 4,
 "nbformat_minor": 2
}
