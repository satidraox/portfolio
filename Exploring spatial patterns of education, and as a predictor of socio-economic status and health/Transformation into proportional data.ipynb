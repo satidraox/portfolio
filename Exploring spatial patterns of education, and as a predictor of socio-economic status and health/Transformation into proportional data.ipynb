{
 "cells": [
  {
   "cell_type": "code",
   "execution_count": null,
   "metadata": {},
   "outputs": [],
   "source": [
    "# Importing libraries\n",
    "import pandas as pd\n",
    "\n",
    "# Reading csv file\n",
    "\n",
    "df = pd.read_csv(\"merged_file.csv\")"
   ]
  },
  {
   "cell_type": "code",
   "execution_count": 13,
   "metadata": {},
   "outputs": [],
   "source": [
    "# This block of code calculates the proportion of people with a level of qualification in an LSOA\n",
    "\n",
    "df[\"prop_no_qual\"] = df[\"no_qualifications\"] / df[\"USUALRES\"]\n",
    "df[\"prop_qual_1\"] = df[\"level1_qualification\"] / df[\"USUALRES\"]\n",
    "df[\"prop_qual_2\"] = df[\"level2_qualification\"] / df[\"USUALRES\"]\n",
    "df[\"prop_qual_3\"] = df[\"level3_qualification\"] / df[\"USUALRES\"]\n",
    "df[\"prop_qual_4\"] = df[\"level4_qualification\"] / df[\"USUALRES\"]"
   ]
  },
  {
   "cell_type": "code",
   "execution_count": null,
   "metadata": {},
   "outputs": [],
   "source": [
    "# This block of code calculates the proportion of people with their own self-perceived health in an LSOA\n",
    "\n",
    "df[\"verygoodhealth/population\"] = df[\"health_verygood\"] / df[\"USUALRES\"]\n",
    "df[\"goodhealth/population\"] = df[\"health_good\"] / df[\"USUALRES\"]\n",
    "df[\"fairhealth/population\"] = df[\"health_fair\"] / df[\"USUALRES\"]\n",
    "df[\"badhealth/population\"] = df[\"health_bad\"] / df[\"USUALRES\"]\n",
    "df[\"verybadhealth/population\"] = df[\"health_verybad\"] / df[\"USUALRES\"]"
   ]
  },
  {
   "cell_type": "code",
   "execution_count": null,
   "metadata": {},
   "outputs": [],
   "source": [
    "# Saving newly created columns/dataframe to the existing csv\n",
    "\n",
    "df.to_csv(\"merged_file.csv\")"
   ]
  },
  {
   "cell_type": "code",
   "execution_count": null,
   "metadata": {},
   "outputs": [],
   "source": []
  }
 ],
 "metadata": {
  "kernelspec": {
   "display_name": "sds2022",
   "language": "python",
   "name": "python3"
  },
  "language_info": {
   "codemirror_mode": {
    "name": "ipython",
    "version": 3
   },
   "file_extension": ".py",
   "mimetype": "text/x-python",
   "name": "python",
   "nbconvert_exporter": "python",
   "pygments_lexer": "ipython3",
   "version": "3.9.12 | packaged by conda-forge | (main, Mar 24 2022, 23:17:03) [MSC v.1929 64 bit (AMD64)]"
  },
  "orig_nbformat": 4,
  "vscode": {
   "interpreter": {
    "hash": "d0faeab54791f46ff3134aaf9996e014c26a2fa83fa3aaa8e0e0979e7a8fae63"
   }
  }
 },
 "nbformat": 4,
 "nbformat_minor": 2
}
