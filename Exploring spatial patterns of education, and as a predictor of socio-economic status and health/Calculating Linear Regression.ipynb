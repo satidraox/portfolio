{
 "cells": [
  {
   "cell_type": "code",
   "execution_count": 1,
   "metadata": {},
   "outputs": [],
   "source": [
    "# Importing necessary libraries\n",
    "\n",
    "import pandas as pd\n",
    "import numpy as np\n",
    "import statsmodels.formula.api as smf\n",
    "import matplotlib.pyplot as plt"
   ]
  },
  {
   "cell_type": "code",
   "execution_count": 2,
   "metadata": {},
   "outputs": [],
   "source": [
    "# Reading csv file into pandas dataframe\n",
    "\n",
    "df = pd.read_csv(\"heatmapcorrelationses.csv\", header=0)"
   ]
  },
  {
   "cell_type": "code",
   "execution_count": 5,
   "metadata": {},
   "outputs": [
    {
     "name": "stdout",
     "output_type": "stream",
     "text": [
      "                            OLS Regression Results                            \n",
      "==============================================================================\n",
      "Dep. Variable:         positivehealth   R-squared:                       0.689\n",
      "Model:                            OLS   Adj. R-squared:                  0.689\n",
      "Method:                 Least Squares   F-statistic:                 1.070e+04\n",
      "Date:                Fri, 15 Sep 2023   Prob (F-statistic):               0.00\n",
      "Time:                        03:40:59   Log-Likelihood:                 11429.\n",
      "No. Observations:                4835   AIC:                        -2.285e+04\n",
      "Df Residuals:                    4833   BIC:                        -2.284e+04\n",
      "Df Model:                           1                                         \n",
      "Covariance Type:            nonrobust                                         \n",
      "=====================================================================================================\n",
      "                                        coef    std err          t      P>|t|      [0.025      0.975]\n",
      "-----------------------------------------------------------------------------------------------------\n",
      "Intercept                             0.9209      0.001   1068.644      0.000       0.919       0.923\n",
      "Proportion_with_No_Qualifications    -0.4623      0.004   -103.454      0.000      -0.471      -0.454\n",
      "==============================================================================\n",
      "Omnibus:                      280.391   Durbin-Watson:                   1.340\n",
      "Prob(Omnibus):                  0.000   Jarque-Bera (JB):             1079.437\n",
      "Skew:                          -0.144   Prob(JB):                    4.01e-235\n",
      "Kurtosis:                       5.297   Cond. No.                         14.1\n",
      "==============================================================================\n",
      "\n",
      "Notes:\n",
      "[1] Standard Errors assume that the covariance matrix of the errors is correctly specified.\n"
     ]
    }
   ],
   "source": [
    "# Performing linear regression analysis, predicting/explaining how much of positive health is explained by an areas proportion of people with no qualifications\n",
    "\n",
    "positive_noqual = smf.ols(\"positivehealth ~ Proportion_with_No_Qualifications\", data=df).fit()\n",
    "print (positive_noqual.summary())"
   ]
  },
  {
   "cell_type": "code",
   "execution_count": 6,
   "metadata": {},
   "outputs": [
    {
     "name": "stdout",
     "output_type": "stream",
     "text": [
      "                            OLS Regression Results                            \n",
      "==============================================================================\n",
      "Dep. Variable:         positivehealth   R-squared:                       0.489\n",
      "Model:                            OLS   Adj. R-squared:                  0.489\n",
      "Method:                 Least Squares   F-statistic:                     4625.\n",
      "Date:                Fri, 15 Sep 2023   Prob (F-statistic):               0.00\n",
      "Time:                        03:41:19   Log-Likelihood:                 10229.\n",
      "No. Observations:                4835   AIC:                        -2.045e+04\n",
      "Df Residuals:                    4833   BIC:                        -2.044e+04\n",
      "Df Model:                           1                                         \n",
      "Covariance Type:            nonrobust                                         \n",
      "==========================================================================================================\n",
      "                                             coef    std err          t      P>|t|      [0.025      0.975]\n",
      "----------------------------------------------------------------------------------------------------------\n",
      "Intercept                                  0.7652      0.001    662.495      0.000       0.763       0.767\n",
      "Proportion_with_Level_4_Qualifications     0.1963      0.003     68.010      0.000       0.191       0.202\n",
      "==============================================================================\n",
      "Omnibus:                      223.438   Durbin-Watson:                   1.377\n",
      "Prob(Omnibus):                  0.000   Jarque-Bera (JB):              322.935\n",
      "Skew:                          -0.431   Prob(JB):                     7.51e-71\n",
      "Kurtosis:                       3.928   Cond. No.                         7.85\n",
      "==============================================================================\n",
      "\n",
      "Notes:\n",
      "[1] Standard Errors assume that the covariance matrix of the errors is correctly specified.\n"
     ]
    }
   ],
   "source": [
    "# Performing linear regression analysis, predicting/explaining how much of positive health is explained by an areas proportion of people with level 4 qualifications\n",
    "\n",
    "positive_level4qual = smf.ols(\"positivehealth ~ Proportion_with_Level_4_Qualifications\", data=df).fit()\n",
    "print (positive_level4qual.summary()) "
   ]
  },
  {
   "cell_type": "code",
   "execution_count": 7,
   "metadata": {},
   "outputs": [
    {
     "name": "stdout",
     "output_type": "stream",
     "text": [
      "                            OLS Regression Results                            \n",
      "==============================================================================\n",
      "Dep. Variable:         negativehealth   R-squared:                       0.517\n",
      "Model:                            OLS   Adj. R-squared:                  0.517\n",
      "Method:                 Least Squares   F-statistic:                     5181.\n",
      "Date:                Fri, 15 Sep 2023   Prob (F-statistic):               0.00\n",
      "Time:                        03:41:41   Log-Likelihood:                 14168.\n",
      "No. Observations:                4835   AIC:                        -2.833e+04\n",
      "Df Residuals:                    4833   BIC:                        -2.832e+04\n",
      "Df Model:                           1                                         \n",
      "Covariance Type:            nonrobust                                         \n",
      "=====================================================================================================\n",
      "                                        coef    std err          t      P>|t|      [0.025      0.975]\n",
      "-----------------------------------------------------------------------------------------------------\n",
      "Intercept                             0.0169      0.000     34.557      0.000       0.016       0.018\n",
      "Proportion_with_No_Qualifications     0.1825      0.003     71.980      0.000       0.178       0.188\n",
      "==============================================================================\n",
      "Omnibus:                      494.543   Durbin-Watson:                   1.138\n",
      "Prob(Omnibus):                  0.000   Jarque-Bera (JB):              846.783\n",
      "Skew:                           0.714   Prob(JB):                    1.33e-184\n",
      "Kurtosis:                       4.470   Cond. No.                         14.1\n",
      "==============================================================================\n",
      "\n",
      "Notes:\n",
      "[1] Standard Errors assume that the covariance matrix of the errors is correctly specified.\n"
     ]
    }
   ],
   "source": [
    "# Performing linear regression analysis, predicting/explaining how much of negative health is explained by an areas proportion of people with no qualifications\n",
    "\n",
    "negative_noqual = smf.ols(\"negativehealth ~ Proportion_with_No_Qualifications\", data=df).fit()\n",
    "print (negative_noqual.summary())"
   ]
  },
  {
   "cell_type": "code",
   "execution_count": 8,
   "metadata": {},
   "outputs": [
    {
     "name": "stdout",
     "output_type": "stream",
     "text": [
      "                            OLS Regression Results                            \n",
      "==============================================================================\n",
      "Dep. Variable:         negativehealth   R-squared:                       0.273\n",
      "Model:                            OLS   Adj. R-squared:                  0.272\n",
      "Method:                 Least Squares   F-statistic:                     1811.\n",
      "Date:                Fri, 15 Sep 2023   Prob (F-statistic):               0.00\n",
      "Time:                        03:41:58   Log-Likelihood:                 13176.\n",
      "No. Observations:                4835   AIC:                        -2.635e+04\n",
      "Df Residuals:                    4833   BIC:                        -2.633e+04\n",
      "Df Model:                           1                                         \n",
      "Covariance Type:            nonrobust                                         \n",
      "==========================================================================================================\n",
      "                                             coef    std err          t      P>|t|      [0.025      0.975]\n",
      "----------------------------------------------------------------------------------------------------------\n",
      "Intercept                                  0.0744      0.001    118.411      0.000       0.073       0.076\n",
      "Proportion_with_Level_4_Qualifications    -0.0668      0.002    -42.553      0.000      -0.070      -0.064\n",
      "==============================================================================\n",
      "Omnibus:                      483.598   Durbin-Watson:                   1.182\n",
      "Prob(Omnibus):                  0.000   Jarque-Bera (JB):              703.736\n",
      "Skew:                           0.769   Prob(JB):                    1.53e-153\n",
      "Kurtosis:                       4.061   Cond. No.                         7.85\n",
      "==============================================================================\n",
      "\n",
      "Notes:\n",
      "[1] Standard Errors assume that the covariance matrix of the errors is correctly specified.\n"
     ]
    }
   ],
   "source": [
    "# Performing linear regression analysis, predicting/explaining how much of negative health is explained by an areas proportion of people with level 4 qualifications\n",
    "\n",
    "negative_level4qual = smf.ols(\"negativehealth ~ Proportion_with_Level_4_Qualifications\", data=df).fit()\n",
    "print (negative_level4qual.summary()) "
   ]
  },
  {
   "cell_type": "code",
   "execution_count": 10,
   "metadata": {},
   "outputs": [
    {
     "name": "stdout",
     "output_type": "stream",
     "text": [
      "                               OLS Regression Results                              \n",
      "===================================================================================\n",
      "Dep. Variable:     Median_Household_Income   R-squared:                       0.572\n",
      "Model:                                 OLS   Adj. R-squared:                  0.572\n",
      "Method:                      Least Squares   F-statistic:                     6462.\n",
      "Date:                     Fri, 15 Sep 2023   Prob (F-statistic):               0.00\n",
      "Time:                             03:45:53   Log-Likelihood:                -47714.\n",
      "No. Observations:                     4835   AIC:                         9.543e+04\n",
      "Df Residuals:                         4833   BIC:                         9.544e+04\n",
      "Df Model:                                1                                         \n",
      "Covariance Type:                 nonrobust                                         \n",
      "=====================================================================================\n",
      "                        coef    std err          t      P>|t|      [0.025      0.975]\n",
      "-------------------------------------------------------------------------------------\n",
      "Intercept          5.163e+04    178.394    289.432      0.000    5.13e+04     5.2e+04\n",
      "no_qualifications   -55.7276      0.693    -80.386      0.000     -57.087     -54.369\n",
      "==============================================================================\n",
      "Omnibus:                      956.911   Durbin-Watson:                   0.897\n",
      "Prob(Omnibus):                  0.000   Jarque-Bera (JB):             4135.759\n",
      "Skew:                           0.907   Prob(JB):                         0.00\n",
      "Kurtosis:                       7.152   Cond. No.                         683.\n",
      "==============================================================================\n",
      "\n",
      "Notes:\n",
      "[1] Standard Errors assume that the covariance matrix of the errors is correctly specified.\n"
     ]
    }
   ],
   "source": [
    "# Performing linear regression analysis, predicting/explaining how much Median Household Income by LSOA is explained by an areas number of people with no qualifications\n",
    "\n",
    "HHI_noqual = smf.ols(\"Median_Household_Income ~ no_qualifications\", data=df).fit()\n",
    "print (HHI_noqual.summary()) "
   ]
  },
  {
   "cell_type": "code",
   "execution_count": 11,
   "metadata": {},
   "outputs": [
    {
     "name": "stdout",
     "output_type": "stream",
     "text": [
      "                               OLS Regression Results                              \n",
      "===================================================================================\n",
      "Dep. Variable:     Median_Household_Income   R-squared:                       0.426\n",
      "Model:                                 OLS   Adj. R-squared:                  0.425\n",
      "Method:                      Least Squares   F-statistic:                     3580.\n",
      "Date:                     Fri, 15 Sep 2023   Prob (F-statistic):               0.00\n",
      "Time:                             03:46:22   Log-Likelihood:                -48426.\n",
      "No. Observations:                     4835   AIC:                         9.686e+04\n",
      "Df Residuals:                         4833   BIC:                         9.687e+04\n",
      "Df Model:                                1                                         \n",
      "Covariance Type:                 nonrobust                                         \n",
      "========================================================================================\n",
      "                           coef    std err          t      P>|t|      [0.025      0.975]\n",
      "----------------------------------------------------------------------------------------\n",
      "Intercept             2.792e+04    190.885    146.273      0.000    2.75e+04    2.83e+04\n",
      "level4_qualification    20.4103      0.341     59.834      0.000      19.742      21.079\n",
      "==============================================================================\n",
      "Omnibus:                     1231.413   Durbin-Watson:                   0.784\n",
      "Prob(Omnibus):                  0.000   Jarque-Bera (JB):             5212.494\n",
      "Skew:                           1.187   Prob(JB):                         0.00\n",
      "Kurtosis:                       7.498   Cond. No.                     1.37e+03\n",
      "==============================================================================\n",
      "\n",
      "Notes:\n",
      "[1] Standard Errors assume that the covariance matrix of the errors is correctly specified.\n",
      "[2] The condition number is large, 1.37e+03. This might indicate that there are\n",
      "strong multicollinearity or other numerical problems.\n"
     ]
    }
   ],
   "source": [
    "# Performing linear regression analysis, predicting/explaining how much Median Household Income by LSOA is explained by an areas number of people with level 4 qualifications\n",
    "\n",
    "HHI_level4qual = smf.ols(\"Median_Household_Income ~ level4_qualification\", data=df).fit()\n",
    "print (HHI_level4qual.summary()) "
   ]
  }
 ],
 "metadata": {
  "kernelspec": {
   "display_name": "sds2022",
   "language": "python",
   "name": "python3"
  },
  "language_info": {
   "codemirror_mode": {
    "name": "ipython",
    "version": 3
   },
   "file_extension": ".py",
   "mimetype": "text/x-python",
   "name": "python",
   "nbconvert_exporter": "python",
   "pygments_lexer": "ipython3",
   "version": "3.9.12"
  },
  "orig_nbformat": 4,
  "vscode": {
   "interpreter": {
    "hash": "d0faeab54791f46ff3134aaf9996e014c26a2fa83fa3aaa8e0e0979e7a8fae63"
   }
  }
 },
 "nbformat": 4,
 "nbformat_minor": 2
}
